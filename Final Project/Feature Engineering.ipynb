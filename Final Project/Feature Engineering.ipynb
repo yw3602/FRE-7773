{
 "cells": [
  {
   "cell_type": "code",
   "execution_count": 2,
   "metadata": {},
   "outputs": [],
   "source": [
    "import numpy as np\n",
    "import pandas as pd\n",
    "pd.options.display.max_columns = None\n",
    "%config InlineBackend.figure_format = 'retina'"
   ]
  },
  {
   "cell_type": "markdown",
   "metadata": {},
   "source": [
    "We looked at the name and details of every feature, and classfied them as three categories."
   ]
  },
  {
   "cell_type": "markdown",
   "metadata": {},
   "source": [
    "关于这个数据集，我仔细看了一下，\n",
    "\n",
    "应该是每一行都有一个对应的customer和商品的信息的（见下customer_features和other_features）\n",
    "\n",
    "从kaggle上看到“Food Mart (CFM) is a chain of convenience stores in the United States.”\n",
    "\n",
    "所以可能是某个大公司旗下的各门店做media campaign，然后每行对应一个customer买product的信息，包括客户信息和商品promotion信息\n",
    "\n",
    "所以这个cost可能指的是在这每一行信息的情况下，特定种类商品获取这个顾客的cost之类的\n"
   ]
  },
  {
   "cell_type": "code",
   "execution_count": 3,
   "metadata": {},
   "outputs": [],
   "source": [
    "df = pd.read_csv(\"media prediction and its cost.csv\")"
   ]
  },
  {
   "cell_type": "code",
   "execution_count": 4,
   "metadata": {},
   "outputs": [],
   "source": [
    "# features基本上可以分为customer information和store information\n",
    "# 为了简洁，和到时候网页上不用填那么多信息，我们这次就只用店铺信息\n",
    "# 还能避免privacy和fairness之类的问题\n",
    "# 不过这个选择只能人工手动辨别了\n",
    "# 在项目展示的时候可以提一下\n",
    "# 也提一下 我们因为去掉了很多信息，所以结果可能比较差\n",
    "# 毕竟原本37个features的时候用random forest能达到R2=0.99\n",
    "# 去掉很多features之后，还是60000多条data，留下的features里相似甚至相同的data可能就有完全不同的cost\n",
    "# 我们可以回答说是这个project为了客户网页填写的简便，只保留了store features\n",
    "\n",
    "# 应该是购买某商品的顾客信息\n",
    "customer_features = ['marital_status','gender','total_children','education','member_card','occupation','houseowner',\n",
    "                  'avg_cars_at home(approx)','avg. yearly_income','num_children_at_home']\n",
    "\n",
    "# 店铺信息\n",
    "store_features = ['store_sales(in millions)','store_cost(in millions)','unit_sales(in millions)',\n",
    "                  'store_type','store_city','store_state','sales_country',\n",
    "                  'store_sqft','grocery_sqft','frozen_sqft','meat_sqft','coffee_bar','video_store','salad_bar','florist']\n",
    "\n",
    "# 应该是包括活动内容，活动特定商品的属性之类的\n",
    "merchandise_features = ['promotion_name','food_category','food_department','food_family','brand_name','SRP','gross_weight','net_weight',\n",
    "                  'recyclable_package','low_fat','units_per_case','media_type']\n",
    "\n",
    "# target y\n",
    "target = ['cost']"
   ]
  },
  {
   "cell_type": "markdown",
   "metadata": {},
   "source": [
    "Too many features for a human customer to input on a webpage. So we do a feature selection by looking at their correlations."
   ]
  },
  {
   "cell_type": "code",
   "execution_count": 5,
   "metadata": {},
   "outputs": [
    {
     "name": "stdout",
     "output_type": "stream",
     "text": [
      "(60428, 23)\n"
     ]
    }
   ],
   "source": [
    "# Get numerical features\n",
    "numerics = ['int16', 'int32', 'int64', 'float16', 'float32', 'float64']\n",
    "num_df = df.select_dtypes(include=numerics)\n",
    "num_features = list(num_df.columns)\n",
    "print(num_df.shape)"
   ]
  },
  {
   "cell_type": "code",
   "execution_count": 6,
   "metadata": {},
   "outputs": [
    {
     "name": "stdout",
     "output_type": "stream",
     "text": [
      "(60428, 17)\n"
     ]
    }
   ],
   "source": [
    "# Categorical features\n",
    "cat_df = df.select_dtypes(include=\"object\")\n",
    "cat_features = list(cat_df.columns)\n",
    "print(cat_df.shape)"
   ]
  },
  {
   "cell_type": "code",
   "execution_count": 7,
   "metadata": {},
   "outputs": [
    {
     "name": "stdout",
     "output_type": "stream",
     "text": [
      "['recyclable_package', 'low_fat', 'coffee_bar', 'video_store', 'salad_bar', 'prepared_food', 'florist']\n"
     ]
    }
   ],
   "source": [
    "binary = []\n",
    "for feature in num_features:\n",
    "    different_values = len(df[feature].unique())\n",
    "    #print((feature,different_values,different_values==2))\n",
    "    if different_values == 2:\n",
    "        binary.append(feature)\n",
    "print(binary)"
   ]
  },
  {
   "cell_type": "code",
   "execution_count": 9,
   "metadata": {},
   "outputs": [
    {
     "data": {
      "text/html": [
       "<div>\n",
       "<style scoped>\n",
       "    .dataframe tbody tr th:only-of-type {\n",
       "        vertical-align: middle;\n",
       "    }\n",
       "\n",
       "    .dataframe tbody tr th {\n",
       "        vertical-align: top;\n",
       "    }\n",
       "\n",
       "    .dataframe thead th {\n",
       "        text-align: right;\n",
       "    }\n",
       "</style>\n",
       "<table border=\"1\" class=\"dataframe\">\n",
       "  <thead>\n",
       "    <tr style=\"text-align: right;\">\n",
       "      <th></th>\n",
       "      <th>cost</th>\n",
       "      <th>food_category</th>\n",
       "      <th>food_department</th>\n",
       "      <th>food_family</th>\n",
       "      <th>promotion_name</th>\n",
       "      <th>sales_country</th>\n",
       "      <th>occupation</th>\n",
       "      <th>brand_name</th>\n",
       "      <th>store_type</th>\n",
       "      <th>store_city</th>\n",
       "      <th>store_state</th>\n",
       "      <th>media_type</th>\n",
       "    </tr>\n",
       "  </thead>\n",
       "  <tbody>\n",
       "    <tr>\n",
       "      <th>0</th>\n",
       "      <td>126.62</td>\n",
       "      <td>Breakfast Foods</td>\n",
       "      <td>Frozen Foods</td>\n",
       "      <td>Food</td>\n",
       "      <td>Bag Stuffers</td>\n",
       "      <td>USA</td>\n",
       "      <td>Skilled Manual</td>\n",
       "      <td>Carrington</td>\n",
       "      <td>Deluxe Supermarket</td>\n",
       "      <td>Salem</td>\n",
       "      <td>OR</td>\n",
       "      <td>Daily Paper, Radio</td>\n",
       "    </tr>\n",
       "    <tr>\n",
       "      <th>1</th>\n",
       "      <td>59.86</td>\n",
       "      <td>Breakfast Foods</td>\n",
       "      <td>Frozen Foods</td>\n",
       "      <td>Food</td>\n",
       "      <td>Cash Register Lottery</td>\n",
       "      <td>USA</td>\n",
       "      <td>Professional</td>\n",
       "      <td>Carrington</td>\n",
       "      <td>Deluxe Supermarket</td>\n",
       "      <td>Salem</td>\n",
       "      <td>OR</td>\n",
       "      <td>Daily Paper, Radio</td>\n",
       "    </tr>\n",
       "    <tr>\n",
       "      <th>2</th>\n",
       "      <td>84.16</td>\n",
       "      <td>Breakfast Foods</td>\n",
       "      <td>Frozen Foods</td>\n",
       "      <td>Food</td>\n",
       "      <td>High Roller Savings</td>\n",
       "      <td>USA</td>\n",
       "      <td>Manual</td>\n",
       "      <td>Carrington</td>\n",
       "      <td>Deluxe Supermarket</td>\n",
       "      <td>Salem</td>\n",
       "      <td>OR</td>\n",
       "      <td>Daily Paper, Radio</td>\n",
       "    </tr>\n",
       "  </tbody>\n",
       "</table>\n",
       "</div>"
      ],
      "text/plain": [
       "     cost    food_category food_department food_family         promotion_name  \\\n",
       "0  126.62  Breakfast Foods    Frozen Foods        Food           Bag Stuffers   \n",
       "1   59.86  Breakfast Foods    Frozen Foods        Food  Cash Register Lottery   \n",
       "2   84.16  Breakfast Foods    Frozen Foods        Food    High Roller Savings   \n",
       "\n",
       "  sales_country      occupation  brand_name          store_type store_city  \\\n",
       "0           USA  Skilled Manual  Carrington  Deluxe Supermarket      Salem   \n",
       "1           USA    Professional  Carrington  Deluxe Supermarket      Salem   \n",
       "2           USA          Manual  Carrington  Deluxe Supermarket      Salem   \n",
       "\n",
       "  store_state          media_type  \n",
       "0          OR  Daily Paper, Radio  \n",
       "1          OR  Daily Paper, Radio  \n",
       "2          OR  Daily Paper, Radio  "
      ]
     },
     "execution_count": 9,
     "metadata": {},
     "output_type": "execute_result"
    }
   ],
   "source": [
    "data1=df[['cost','food_category','food_department','food_family','promotion_name','sales_country'\n",
    "          ,'occupation','brand_name','store_type','store_city','store_state','media_type']]\n",
    "data1.head(3)"
   ]
  },
  {
   "cell_type": "markdown",
   "metadata": {},
   "source": [
    "Calculate the correlations between cost and unordered multivariate categorical variables, using ANOVA method"
   ]
  },
  {
   "cell_type": "code",
   "execution_count": 10,
   "metadata": {},
   "outputs": [
    {
     "name": "stdout",
     "output_type": "stream",
     "text": [
      "check the p value\n",
      "                       sum_sq       df           F    PR(>F)\n",
      "food_category    2.570261e+04     44.0    1.001959  0.390728\n",
      "food_department  1.226715e+04     21.0    1.001959  0.390728\n",
      "food_family      1.485538e+02      2.0    0.127403  0.721141\n",
      "promotion_name   1.246315e+07     48.0  445.360928  0.000000\n",
      "sales_country    1.625746e+03      2.0    1.394274  0.248021\n",
      "occupation       3.098347e+03      4.0    1.328604  0.256544\n",
      "brand_name       6.425652e+04    110.0    1.001959  0.390728\n",
      "store_type       2.336601e+03      4.0    1.001959  0.390728\n",
      "store_city       1.051470e+04     18.0    1.001959  0.390728\n",
      "store_state      5.257352e+03      9.0    1.001959  0.390728\n",
      "media_type       2.899953e+06     12.0  414.510146  0.000000\n",
      "Residual         3.509767e+07  60201.0         NaN       NaN\n"
     ]
    },
    {
     "name": "stderr",
     "output_type": "stream",
     "text": [
      "C:\\Users\\ylwu5\\anaconda3\\lib\\site-packages\\statsmodels\\base\\model.py:1832: ValueWarning: covariance of constraints does not have full rank. The number of constraints is 44, but rank is 3\n",
      "  warnings.warn('covariance of constraints does not have full '\n",
      "C:\\Users\\ylwu5\\anaconda3\\lib\\site-packages\\statsmodels\\base\\model.py:1832: ValueWarning: covariance of constraints does not have full rank. The number of constraints is 21, but rank is 3\n",
      "  warnings.warn('covariance of constraints does not have full '\n",
      "C:\\Users\\ylwu5\\anaconda3\\lib\\site-packages\\statsmodels\\base\\model.py:1832: ValueWarning: covariance of constraints does not have full rank. The number of constraints is 2, but rank is 1\n",
      "  warnings.warn('covariance of constraints does not have full '\n",
      "C:\\Users\\ylwu5\\anaconda3\\lib\\site-packages\\statsmodels\\base\\model.py:1832: ValueWarning: covariance of constraints does not have full rank. The number of constraints is 110, but rank is 3\n",
      "  warnings.warn('covariance of constraints does not have full '\n",
      "C:\\Users\\ylwu5\\anaconda3\\lib\\site-packages\\statsmodels\\base\\model.py:1832: ValueWarning: covariance of constraints does not have full rank. The number of constraints is 4, but rank is 3\n",
      "  warnings.warn('covariance of constraints does not have full '\n",
      "C:\\Users\\ylwu5\\anaconda3\\lib\\site-packages\\statsmodels\\base\\model.py:1832: ValueWarning: covariance of constraints does not have full rank. The number of constraints is 18, but rank is 3\n",
      "  warnings.warn('covariance of constraints does not have full '\n",
      "C:\\Users\\ylwu5\\anaconda3\\lib\\site-packages\\statsmodels\\base\\model.py:1832: ValueWarning: covariance of constraints does not have full rank. The number of constraints is 9, but rank is 3\n",
      "  warnings.warn('covariance of constraints does not have full '\n"
     ]
    }
   ],
   "source": [
    "import scipy.stats as stats\n",
    "from statsmodels.stats.anova import anova_lm\n",
    "from statsmodels.formula.api import ols\n",
    "model=ols('cost~food_category+food_department+food_family+promotion_name+sales_country+occupation+brand_name+store_type+store_city+store_state+media_type'\n",
    "          ,data=data1).fit()\n",
    "anova_table=anova_lm(model,typ=2)\n",
    "print('check the p value')\n",
    "print(anova_table)"
   ]
  },
  {
   "cell_type": "markdown",
   "metadata": {},
   "source": [
    "From the p-values we can conclude that among unordered variables, promotion name and media type is related with cost, whose p-values are far smaller than 0.05.\n",
    "\n",
    "Then we are going to check the correlations between binary variables and cost, the usually way is to calculate the point-biserial correlation.\n",
    "\n",
    "Before calculation, we encode the character binary variable into 0 and 1.\n"
   ]
  },
  {
   "cell_type": "code",
   "execution_count": 11,
   "metadata": {},
   "outputs": [
    {
     "data": {
      "text/plain": [
       "PointbiserialrResult(correlation=-0.0007011651080323834, pvalue=0.8631563917541039)"
      ]
     },
     "execution_count": 11,
     "metadata": {},
     "output_type": "execute_result"
    }
   ],
   "source": [
    "marital=[\"M\",\"S\"]\n",
    "dummy_vars=[1,0]\n",
    "df['maritaldummy']=df['marital_status'].replace(marital,dummy_vars)\n",
    "stats.pointbiserialr(df[\"cost\"],df['maritaldummy'])"
   ]
  },
  {
   "cell_type": "code",
   "execution_count": 12,
   "metadata": {},
   "outputs": [
    {
     "data": {
      "text/plain": [
       "PointbiserialrResult(correlation=0.008603374408391285, pvalue=0.03443965471443298)"
      ]
     },
     "execution_count": 12,
     "metadata": {},
     "output_type": "execute_result"
    }
   ],
   "source": [
    "genders=[\"F\",\"M\"]\n",
    "dummy_vars=[1,0]\n",
    "df['genderdummy']=df['gender'].replace(genders,dummy_vars)\n",
    "stats.pointbiserialr(df[\"cost\"],df['genderdummy'])"
   ]
  },
  {
   "cell_type": "code",
   "execution_count": 13,
   "metadata": {},
   "outputs": [
    {
     "data": {
      "text/plain": [
       "PointbiserialrResult(correlation=-0.0033878574659527796, pvalue=0.4049620924061012)"
      ]
     },
     "execution_count": 13,
     "metadata": {},
     "output_type": "execute_result"
    }
   ],
   "source": [
    "house_owners=[\"Y\",\"N\"]\n",
    "dummy_vars=[0,1]\n",
    "df['housedummy']=df['houseowner'].replace(house_owners,dummy_vars)\n",
    "stats.pointbiserialr(df[\"cost\"],df['housedummy'])"
   ]
  },
  {
   "cell_type": "markdown",
   "metadata": {},
   "source": [
    "We can conclude that the gender is related with the cost because the p-value is smaller than 0.05.\n",
    "\n",
    "Then calculate the correlations of the remaining unordered binary variables."
   ]
  },
  {
   "cell_type": "code",
   "execution_count": 16,
   "metadata": {},
   "outputs": [
    {
     "name": "stdout",
     "output_type": "stream",
     "text": [
      "The result between cost and florist is:\n",
      "PointbiserialrResult(correlation=-0.08734049540628466, pvalue=1.2334543558349544e-102)\n",
      "The result between cost and prepared_food is:\n",
      "PointbiserialrResult(correlation=-0.09559609699909873, pvalue=1.1694696744399297e-122)\n",
      "The result between cost and coffee_bar is:\n",
      "PointbiserialrResult(correlation=-0.06085850311031529, pvalue=1.087964797206913e-50)\n",
      "The result between cost and recyclable_package is:\n",
      "PointbiserialrResult(correlation=-0.0017198840904629285, pvalue=0.6724591960483609)\n",
      "The result between cost and video_store is:\n",
      "PointbiserialrResult(correlation=-0.11121393282119389, pvalue=1.4480785136680184e-165)\n",
      "The result between cost and low_fat is:\n",
      "PointbiserialrResult(correlation=0.004207019183325482, pvalue=0.301062700974472)\n"
     ]
    }
   ],
   "source": [
    "bidata=df[{'recyclable_package','low_fat','coffee_bar','video_store','prepared_food','florist'}]\n",
    "for col in bidata.columns:\n",
    "    print(f\"The result between cost and {col} is:\\n{stats.pointbiserialr(df['cost'],df[col])}\")"
   ]
  },
  {
   "cell_type": "markdown",
   "metadata": {},
   "source": [
    "In conclusion, we can get that:\n",
    "1.  There is no evidence showing that there are no relationship between the cost and recyclable_package or low_fat, because the p-values above are bigger than 0.05;\n",
    "2.  We can conclude that the coffee_bar, video_store, salad_bar, prepared_food, and florist are related with the cost because the p-values above are smaller than 0.05, although the correlations are not large.\n"
   ]
  },
  {
   "cell_type": "code",
   "execution_count": 18,
   "metadata": {},
   "outputs": [
    {
     "data": {
      "text/plain": [
       "cost                        1.000000\n",
       "store_sales(in millions)   -0.004897\n",
       "store_cost(in millions)    -0.004955\n",
       "SRP                         0.001289\n",
       "gross_weight                0.001023\n",
       "net_weight                  0.001012\n",
       "store_sqft                 -0.028274\n",
       "grocery_sqft               -0.018307\n",
       "frozen_sqft                -0.053951\n",
       "meat_sqft                  -0.053951\n",
       "Name: cost, dtype: float64"
      ]
     },
     "execution_count": 18,
     "metadata": {},
     "output_type": "execute_result"
    }
   ],
   "source": [
    "data2=df[['cost','store_sales(in millions)','store_cost(in millions)','SRP',\n",
    "          'gross_weight','net_weight','store_sqft','grocery_sqft','frozen_sqft',\n",
    "          'meat_sqft']]\n",
    "data2.corr(method='kendall')['cost']"
   ]
  },
  {
   "cell_type": "markdown",
   "metadata": {},
   "source": [
    "From these,if take 0.1 as threshold, it shows that cost is not related with store_sales, store_cost, SRP, gross_weight, net_weight, store_sqft， and grocery_sqft.\n",
    "\n",
    "Finally, we calculate the correlation about ordered features by using spearman correlation.\n",
    "\n",
    "We recode the string variables first, then calculate the correlations.\n"
   ]
  },
  {
   "cell_type": "code",
   "execution_count": 19,
   "metadata": {},
   "outputs": [],
   "source": [
    "education=[\"Partial High School\",\"High School Degree\",\"Partial College\",\"Bachelors Degree\",\"Graduate Degree\"]\n",
    "dummy_vars=[0,1,2,3,4]\n",
    "df['educationdummy']=df['education'].replace(education,dummy_vars)\n",
    "\n",
    "member_card=[\"Normal\",\"Silver\",\"Bronze\",\"Golden\"]\n",
    "dummy_vars=[0,1,2,3]\n",
    "df['memberdummy']=df['member_card'].replace(member_card,dummy_vars)\n",
    "\n",
    "income=[\"$10K - $30K\",\"$30K - $50K\",\"$50K - $70K\",\"$70K - $90K\",\"90K - $110K\",\"$110K - $130K\",\"$130K - $150K\",\"$150K +\"]\n",
    "dummy_vars=[0,1,2,3,4,5,6,7]\n",
    "df['incomedummy']=df['avg. yearly_income'].replace(income,dummy_vars)\n"
   ]
  },
  {
   "cell_type": "code",
   "execution_count": 20,
   "metadata": {},
   "outputs": [
    {
     "data": {
      "text/plain": [
       "cost                        1.000000\n",
       "unit_sales(in millions)    -0.014185\n",
       "total_children             -0.003614\n",
       "avg_cars_at home(approx)    0.009466\n",
       "num_children_at_home       -0.003305\n",
       "educationdummy              0.004307\n",
       "memberdummy                -0.003334\n",
       "units_per_case             -0.002649\n",
       "Name: cost, dtype: float64"
      ]
     },
     "execution_count": 20,
     "metadata": {},
     "output_type": "execute_result"
    }
   ],
   "source": [
    "data3=df[['cost','unit_sales(in millions)','total_children','avg_cars_at home(approx)',\n",
    "          'num_children_at_home','educationdummy','memberdummy','incomedummy','units_per_case']]\n",
    "data3.corr(method='spearman')['cost']"
   ]
  },
  {
   "cell_type": "markdown",
   "metadata": {},
   "source": [
    "After calculation, if taking 0.1 as threshold, we find that they are all not related with the cost.\n",
    "\n",
    "In conclusion, after calculating the correlation by using different methods based on the different types of features, these are the features most related to the cost:\n",
    "\n",
    "promotion_name, gender, frozen_sqft, meat_sqft, coffee_bar, video_store, salad_bar, prepared_food, florist, media_type"
   ]
  },
  {
   "cell_type": "code",
   "execution_count": 21,
   "metadata": {},
   "outputs": [
    {
     "name": "stdout",
     "output_type": "stream",
     "text": [
      "Number of unique values in 60428 data:\n",
      "food_category: 45\n",
      "food_department: 22\n",
      "food_family: 3\n",
      "store_sales(in millions): 1033\n",
      "store_cost(in millions): 9919\n",
      "unit_sales(in millions): 6\n",
      "promotion_name: 49\n",
      "sales_country: 3\n",
      "marital_status: 2\n",
      "gender: 2\n",
      "total_children: 6\n",
      "education: 5\n",
      "member_card: 4\n",
      "occupation: 5\n",
      "houseowner: 2\n",
      "avg_cars_at home(approx): 5\n",
      "avg. yearly_income: 8\n",
      "num_children_at_home: 6\n",
      "avg_cars_at home(approx).1: 5\n",
      "brand_name: 111\n",
      "SRP: 315\n",
      "gross_weight: 376\n",
      "net_weight: 332\n",
      "recyclable_package: 2\n",
      "low_fat: 2\n",
      "units_per_case: 36\n",
      "store_type: 5\n",
      "store_city: 19\n",
      "store_state: 10\n",
      "store_sqft: 20\n",
      "grocery_sqft: 20\n",
      "frozen_sqft: 20\n",
      "meat_sqft: 20\n",
      "coffee_bar: 2\n",
      "video_store: 2\n",
      "salad_bar: 2\n",
      "prepared_food: 2\n",
      "florist: 2\n",
      "media_type: 13\n",
      "cost: 328\n",
      "maritaldummy: 2\n",
      "genderdummy: 2\n",
      "housedummy: 2\n",
      "educationdummy: 5\n",
      "memberdummy: 4\n",
      "incomedummy: 8\n"
     ]
    }
   ],
   "source": [
    "print(f\"Number of unique values in {df['cost'].shape[0]} data:\")\n",
    "for col in df.columns:\n",
    "    print(f\"{col}: {len(df[col].unique())}\")"
   ]
  },
  {
   "cell_type": "markdown",
   "metadata": {},
   "source": [
    "We can see that there are only 328 different values of cost in 60428 rows of data. Also for other numerical feature they have much less number unique values than 60428. So by Random Forest model and using up all features, we fit with complex condition judgements in the model and build a regression model that is almost like a classification one."
   ]
  },
  {
   "cell_type": "code",
   "execution_count": null,
   "metadata": {},
   "outputs": [],
   "source": []
  },
  {
   "cell_type": "code",
   "execution_count": null,
   "metadata": {},
   "outputs": [],
   "source": []
  }
 ],
 "metadata": {
  "kernelspec": {
   "display_name": "Python 3",
   "language": "python",
   "name": "python3"
  },
  "language_info": {
   "codemirror_mode": {
    "name": "ipython",
    "version": 3
   },
   "file_extension": ".py",
   "mimetype": "text/x-python",
   "name": "python",
   "nbconvert_exporter": "python",
   "pygments_lexer": "ipython3",
   "version": "3.8.5"
  }
 },
 "nbformat": 4,
 "nbformat_minor": 4
}
