{
 "cells": [
  {
   "cell_type": "code",
   "execution_count": 1,
   "metadata": {},
   "outputs": [],
   "source": [
    "import numpy as np\n",
    "import pandas as pd\n"
   ]
  },
  {
   "cell_type": "code",
   "execution_count": 2,
   "metadata": {},
   "outputs": [
    {
     "data": {
      "text/plain": [
       "Loan_ID               object\n",
       "Gender                object\n",
       "Married               object\n",
       "Dependents            object\n",
       "Education             object\n",
       "Self_Employed         object\n",
       "ApplicantIncome        int64\n",
       "CoapplicantIncome    float64\n",
       "LoanAmount           float64\n",
       "Loan_Amount_Term     float64\n",
       "Credit_History       float64\n",
       "Property_Area         object\n",
       "Loan_Status           object\n",
       "dtype: object"
      ]
     },
     "execution_count": 2,
     "metadata": {},
     "output_type": "execute_result"
    }
   ],
   "source": [
    "df = pd.read_csv('loan_dataset.csv')\n",
    "df.dtypes"
   ]
  },
  {
   "cell_type": "code",
   "execution_count": 3,
   "metadata": {},
   "outputs": [],
   "source": [
    "y = df['Loan_Status'].values\n",
    "y_trans = (y==\"Y\") + 0"
   ]
  },
  {
   "cell_type": "code",
   "execution_count": 4,
   "metadata": {},
   "outputs": [
    {
     "name": "stdout",
     "output_type": "stream",
     "text": [
      "['ApplicantIncome', 'CoapplicantIncome', 'LoanAmount', 'Loan_Amount_Term', 'Credit_History']\n",
      "['Gender', 'Married', 'Dependents', 'Education', 'Self_Employed', 'Property_Area']\n"
     ]
    }
   ],
   "source": [
    "# Get numerical and categorical features\n",
    "features = df.columns.values\n",
    "ignore_features = ['Loan_ID','Loan_Status']\n",
    "num_features = []\n",
    "cat_features = []\n",
    "# categorical features\n",
    "for f in features:\n",
    "    if f not in ignore_features and df[f].dtype == 'object':\n",
    "        cat_features.append(f)\n",
    "# numerical features\n",
    "for f in features:\n",
    "    if f not in ignore_features and f not in cat_features:\n",
    "        num_features.append(f)\n",
    "print(num_features)\n",
    "print(cat_features)"
   ]
  },
  {
   "cell_type": "code",
   "execution_count": 5,
   "metadata": {},
   "outputs": [],
   "source": [
    "# inpute missing values\n",
    "from sklearn.impute import SimpleImputer\n",
    "num_inputer = SimpleImputer(missing_values=np.nan, strategy='mean')\n",
    "cat_inputer = SimpleImputer(missing_values=np.nan, strategy='constant', fill_value='Missing')\n",
    "\n",
    "df_num = num_inputer.fit_transform(df[num_features])\n",
    "df_cat = cat_inputer.fit_transform(df[cat_features])\n"
   ]
  },
  {
   "cell_type": "code",
   "execution_count": 6,
   "metadata": {},
   "outputs": [],
   "source": [
    "# transform and combine num & cat features\n",
    "from sklearn.preprocessing import StandardScaler\n",
    "from sklearn.preprocessing import OneHotEncoder\n",
    "scaler = StandardScaler()\n",
    "encoder = OneHotEncoder(sparse=False)\n",
    "df_num_trans = scaler.fit_transform(df_num)\n",
    "df_cat_trans = encoder.fit_transform(df_cat)\n",
    "X = np.hstack((df_num_trans,df_cat_trans))"
   ]
  },
  {
   "cell_type": "code",
   "execution_count": 7,
   "metadata": {},
   "outputs": [],
   "source": [
    "# train test split\n",
    "from sklearn.model_selection import train_test_split\n",
    "TEST_SIZE = 0.3\n",
    "RANDOM_STATE = 42\n",
    "X_train, X_test, y_train, y_test = train_test_split(X, y_trans, test_size=TEST_SIZE, random_state=RANDOM_STATE)"
   ]
  },
  {
   "cell_type": "code",
   "execution_count": 8,
   "metadata": {},
   "outputs": [
    {
     "data": {
      "text/plain": [
       "0.8550724637681159"
      ]
     },
     "execution_count": 8,
     "metadata": {},
     "output_type": "execute_result"
    }
   ],
   "source": [
    "# fit model\n",
    "from sklearn.linear_model import LogisticRegression\n",
    "from sklearn.metrics import f1_score\n",
    "log_model = LogisticRegression()\n",
    "log_model = log_model.fit(X_train, y_train)\n",
    "y_hat = log_model.predict(X_test)\n",
    "score = f1_score(y_test,y_hat)\n",
    "score"
   ]
  },
  {
   "cell_type": "code",
   "execution_count": 9,
   "metadata": {},
   "outputs": [],
   "source": [
    "# use foreach in metaflow\n",
    "test_groups = cat_features #['Gender', 'Married','Dependents','Education']"
   ]
  },
  {
   "cell_type": "code",
   "execution_count": 10,
   "metadata": {},
   "outputs": [
    {
     "data": {
      "text/plain": [
       "{'Male': 0.8568507157464212, 'Female': 0.8482142857142857}"
      ]
     },
     "execution_count": 10,
     "metadata": {},
     "output_type": "execute_result"
    }
   ],
   "source": [
    "# example of gender\n",
    "# separate groups\n",
    "input = 'Gender'\n",
    "group_col = df[input]\n",
    "unique_groups = group_col.unique()\n",
    "\n",
    "X_groups = []\n",
    "group_names = []\n",
    "for group in unique_groups:\n",
    "    if group is not np.nan:\n",
    "        group_names.append(group)\n",
    "        X_groups.append(X[group_col==group])\n",
    "\n",
    "approve_rates = {}\n",
    "for i in range(len(group_names)):\n",
    "    y_pred_approve = log_model.predict(X_groups[i])\n",
    "    approve_rates[group_names[i]] = (y_pred_approve.sum() / len(X_groups[i]))\n",
    "\n",
    "approve_rates"
   ]
  },
  {
   "cell_type": "code",
   "execution_count": 11,
   "metadata": {},
   "outputs": [
    {
     "data": {
      "text/plain": [
       "(489, 24)"
      ]
     },
     "execution_count": 11,
     "metadata": {},
     "output_type": "execute_result"
    }
   ],
   "source": [
    "X_groups[0].shape"
   ]
  },
  {
   "cell_type": "code",
   "execution_count": 54,
   "metadata": {},
   "outputs": [
    {
     "data": {
      "text/plain": [
       "Index(['Male', 'Female'], dtype='object')"
      ]
     },
     "execution_count": 54,
     "metadata": {},
     "output_type": "execute_result"
    }
   ],
   "source": [
    "plot_rates = pd.Series(approve_rates)\n",
    "plot_rates.index"
   ]
  },
  {
   "cell_type": "code",
   "execution_count": 57,
   "metadata": {},
   "outputs": [
    {
     "data": {
      "text/plain": [
       "(0.0, 1.0)"
      ]
     },
     "execution_count": 57,
     "metadata": {},
     "output_type": "execute_result"
    },
    {
     "data": {
      "image/png": "[encoded data removed]",
      "text/plain": [
       "<Figure size 640x480 with 1 Axes>"
      ]
     },
     "metadata": {},
     "output_type": "display_data"
    }
   ],
   "source": [
    "import matplotlib.pyplot as plt\n",
    "plt.bar(plot_rates.index, height=plot_rates)\n",
    "plt.ylim(0,1)"
   ]
  },
  {
   "cell_type": "code",
   "execution_count": null,
   "metadata": {},
   "outputs": [],
   "source": []
  }
 ],
 "metadata": {
  "kernelspec": {
   "display_name": "Python 3.8.10 ('env': venv)",
   "language": "python",
   "name": "python3"
  },
  "language_info": {
   "codemirror_mode": {
    "name": "ipython",
    "version": 3
   },
   "file_extension": ".py",
   "mimetype": "text/x-python",
   "name": "python",
   "nbconvert_exporter": "python",
   "pygments_lexer": "ipython3",
   "version": "3.8.10"
  },
  "orig_nbformat": 4,
  "vscode": {
   "interpreter": {
    "hash": "e6ff783535e9e0dfec7e41e7d140f8b66b2744138df9af4e0f35891c57eb5c24"
   }
  }
 },
 "nbformat": 4,
 "nbformat_minor": 2
}
